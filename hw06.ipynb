{
 "cells": [
  {
   "cell_type": "code",
   "execution_count": 1,
   "id": "5a8c6896-7555-430b-adfc-fa9e55e31b61",
   "metadata": {},
   "outputs": [],
   "source": [
    "import re"
   ]
  },
  {
   "cell_type": "markdown",
   "id": "08a47b2f-aa92-4443-a491-313aa99c92b2",
   "metadata": {},
   "source": [
    "Для всех задач, где формулировка вида \"найдите в тексте\", тексты для проверки вы можете выбирать абсолютно любые. "
   ]
  },
  {
   "cell_type": "markdown",
   "id": "fb3cdce4-7571-4fc2-891e-0a0fe11cf3ee",
   "metadata": {
    "tags": []
   },
   "source": [
    "#### Задача 1. \n",
    "\n",
    "Найдите в тексте все смайлики вида :), :(, :-), :-(."
   ]
  },
  {
   "cell_type": "code",
   "execution_count": 2,
   "id": "616682c2-f35b-41f0-b482-a6880a8ea59e",
   "metadata": {},
   "outputs": [
    {
     "name": "stdout",
     "output_type": "stream",
     "text": [
      "[':(', ':-(', ':)', ':-(', ':-)']\n"
     ]
    }
   ],
   "source": [
    "text = 'Сижу за решеткой:( в темнице сырой:-(. Вскормленный в неволе орел молодой :). Мой грустный товарищ :-(, махая крылом :-)'\n",
    "method = re.compile(r':-*[\\(\\)]')\n",
    "result = re.findall(method, text)\n",
    "print(result)"
   ]
  },
  {
   "cell_type": "markdown",
   "id": "1afc3b41-5168-40b0-9a85-2ff084e3a995",
   "metadata": {},
   "source": [
    "#### Задача 2.\n",
    "\n",
    "Некоторые любят выделять особо важные места в тексте с помощью нижнего подчёркивания, например: \"...здесь \\_очень важно\\_ отметить...\" (дело в том, что нижние подчеркивания в некоторых редакторах автоматически превращаются в курсив).\n",
    "\n",
    "Ищем такие выделения, но не длиннее 5 слов."
   ]
  },
  {
   "cell_type": "code",
   "execution_count": 3,
   "id": "c82bca78-0a17-4398-b753-e012d0350626",
   "metadata": {},
   "outputs": [
    {
     "name": "stdout",
     "output_type": "stream",
     "text": [
      "['_Сижу_', '_в нев0ле_', '_с_', '_товарищ_', '_ом_']\n"
     ]
    }
   ],
   "source": [
    "text = '_Сижу_ за решеткой в темнице сырой. Вскормленный _в нев0ле_ орел молодой. Мой гру_с_тный _товарищ_, махая крыл_ом_.'\n",
    "method = re.compile(r'_[А-Яа-яёЁ \\d]+_')\n",
    "result = re.findall(method, text)\n",
    "print(result)\n",
    "#тут более 5 слов, но забавный вывод)"
   ]
  },
  {
   "cell_type": "code",
   "execution_count": 4,
   "id": "8fe894fc",
   "metadata": {},
   "outputs": [
    {
     "name": "stdout",
     "output_type": "stream",
     "text": [
      "['_в неволе_', '_грустный_', '_товарищ_']\n"
     ]
    }
   ],
   "source": [
    "text = '_Сижу за решеткой в темнице сырой_. Вскормленный _в неволе_ орел __ молодой. Мой _грустный_ _товарищ_, махая крылом.'\n",
    "method = re.compile(r'_[А-Яа-яёЁ]+(?: [А-Яа-яёЁ]*){0,4}_')\n",
    "result = re.findall(method, text)\n",
    "print(result)"
   ]
  },
  {
   "cell_type": "markdown",
   "id": "bb146348-8398-4b81-aa42-fcdf0ce68c01",
   "metadata": {},
   "source": [
    "#### Задача 3.\n",
    "\n",
    "Найдите в тексте все куски, которые взяты в круглые скобки. "
   ]
  },
  {
   "cell_type": "code",
   "execution_count": 5,
   "id": "0d8e4371-2a8c-4fa4-be84-a0a2c3009714",
   "metadata": {},
   "outputs": [
    {
     "name": "stdout",
     "output_type": "stream",
     "text": [
      "['(за решеткой)', '(молодой)', '(, махая крылом)']\n"
     ]
    }
   ],
   "source": [
    "text = 'Сижу (за решеткой) в темнице сырой. Вскормленный в неволе орел (молодой). Мой грустный товарищ(, махая крылом).'\n",
    "method = re.compile(r'\\([\\w ,.:;!?]*\\)')\n",
    "result = re.findall(method, text)\n",
    "print(result)"
   ]
  },
  {
   "cell_type": "markdown",
   "id": "650d10ce-720f-4a10-96e0-dab56c505814",
   "metadata": {},
   "source": [
    "#### Задача 4.\n",
    "\n",
    "С помощью os.listdir() обходим все файлы с музыкой в папке; при этом в папке, которую мы обходим, нужные нам файлы называются в таком формате:\n",
    "\n",
    "    имя исполнителя - номер песни - название песни.mp3\n",
    "    \n",
    "(при этом дефисы могут попасться как в имени исполнителя, так и в названии песни тоже). Программа должна:\n",
    "\n",
    "1. Обрабатывать только файлы, которые удовлетворяют этому шаблону (открывать их не будем, давайте будем просто сообщать, что X - это песенка исполнителя Y)\n",
    "2. По итогам работы собрать статистику с перечнем исполнителей и их песен в виде:\n",
    "\n",
    "        имя исполнителя:\n",
    "            номер песни. название песни\n",
    "        имя исполнителя:\n",
    "            номер песни. название песни"
   ]
  },
  {
   "cell_type": "code",
   "execution_count": 16,
   "id": "04df77eb-87df-4aa7-b616-f0a3e34e4341",
   "metadata": {},
   "outputs": [
    {
     "name": "stdout",
     "output_type": "stream",
     "text": [
      "['.git', '05 - Track  5 (mp3cut.net).mp3', 'heb-rew - 3 - bait-hadash.mp3', 'hw06.ipynb', 'ivrit - 1 - shalom.mp3', 'ivrit - 2 - shabbat.mp3', 'README.md']\n",
      "['heb-rew - 3 - bait-hadash.mp3', 'ivrit - 1 - shalom.mp3', 'ivrit - 2 - shabbat.mp3']\n",
      "{'heb-rew': ['3. bait-hadash'], 'ivrit': ['1. shalom', '2. shabbat']}\n"
     ]
    }
   ],
   "source": [
    "import os\n",
    "files = os.listdir()\n",
    "print(files)\n",
    "method = re.compile(r'.* - \\d+ - .*\\.mp3$')\n",
    "result = list(filter(method.match, files))\n",
    "print(result)\n",
    "#['heb-rew - 3 - bait-hadash.mp3', 'ivrit - 1 - shalom.mp3', 'ivrit - 2 - shabbat.mp3']\n",
    "dicti = {}\n",
    "for element in result:\n",
    "    artist, number, song = element.split(' - ')[0], element.split(' - ')[1], element.split(' - ')[2].replace('.mp3', '')\n",
    "    if artist not in dicti:\n",
    "        dicti[artist] = []\n",
    "    dicti[artist].append(f'{number}. {song}')\n",
    "print(dicti)"
   ]
  },
  {
   "cell_type": "markdown",
   "id": "4edc3371-5c9f-47f3-82f9-5e2225db69fa",
   "metadata": {},
   "source": [
    "#### Задача 5. \n",
    "\n",
    "Найдите в тексте смайлики вида \\*\\_\\*, \\^\\_\\^, T\\_T (а смайлики вида o\\_O нам не нужны)."
   ]
  },
  {
   "cell_type": "code",
   "execution_count": 7,
   "id": "dd7d7780-5e6a-4568-b230-c67246efbff3",
   "metadata": {},
   "outputs": [
    {
     "name": "stdout",
     "output_type": "stream",
     "text": [
      "^_^\n",
      "T_T\n",
      "*_*\n",
      "!_!\n"
     ]
    }
   ],
   "source": [
    "text = 'Сижу ^_^ за решеткой T_T в темнице сырой *_*. Вскормленный в неволе o_O орел молодой. Мой грустный товарищ >_<, махая крылом !_!.'\n",
    "method = re.compile(r'(.)_\\1')\n",
    "result = re.finditer(method, text)\n",
    "for element in result:\n",
    "    print(element.group(0))"
   ]
  },
  {
   "cell_type": "markdown",
   "id": "fb7cc84d-f4e5-4a01-ae73-ef09486c6f58",
   "metadata": {},
   "source": [
    "#### Задача 6. \n",
    "\n",
    "Пишем программу - помощник обнаружения тавтологии: ищем в тексте повторяющиеся слова, которые находятся на расстоянии от 2 до 10 слов друг от друга. В простом случае считаем, что пунктуации у нас нет, в сложном можете попробовать ее тоже учесть. "
   ]
  },
  {
   "cell_type": "code",
   "execution_count": 8,
   "id": "c4d935cd-1884-4df8-9759-06e3eac1a3f1",
   "metadata": {},
   "outputs": [
    {
     "name": "stdout",
     "output_type": "stream",
     "text": [
      "сижу за решеткой в темнице сырой вскормленный в неволе орел молодой дикий орел при необходимости может жить в неволе сырой тунец дам дам тунец вкусный\n",
      "['неволе', 'тунец']\n"
     ]
    }
   ],
   "source": [
    "text = 'Сижу за решеткой в темнице сырой. Вскормленный в неволе орел молодой. Дикий орел, при необходимости, может жить в неволе. Сырой тунец. Дам дам. Тунец вкусный'\n",
    "text = text.lower()\n",
    "text = re.sub(r'[,.!?]', '', text)\n",
    "print(text)\n",
    "method = re.compile(r'([а-я]{2,}) (?:[а-я]+ ){2,10}\\1')\n",
    "result = re.findall(method, text)\n",
    "print(result)\n",
    "#не понимаю, почему не принимает \"орел\""
   ]
  },
  {
   "cell_type": "markdown",
   "id": "c6c08d10-573e-45f2-b90c-23a8ff83aec3",
   "metadata": {},
   "source": [
    "#### Задача 7. \n",
    "\n",
    "Представим, что есть некоторые данные, представляющие из себя последовательность символов. С помощью регулярного выражения надо найти в них подпоследовательности, являющимися палиндромами, длины не менее 6-ти и не более 11 символов. (Подумайте, а хорошо ли подходят регулярные выражения для решения этой задачи?)"
   ]
  },
  {
   "cell_type": "code",
   "execution_count": 9,
   "id": "f272368b-23b6-4cfb-93cf-dc770ba0c693",
   "metadata": {},
   "outputs": [
    {
     "name": "stdout",
     "output_type": "stream",
     "text": [
      "-ро11ор-\n",
      "103!301\n",
      "!,00,!\n",
      "123гааг321\n"
     ]
    }
   ],
   "source": [
    "text = 'а-0340 9ш6п.ю.э цкзщл,123гааг321валз!у кпзл-3212132140!,00,!9ш5п,шо0934?0103!301 3к8о**гшгг№у-ро11ор-кшгр% у804802'\n",
    "symbols = set(text)\n",
    "dicti = {}\n",
    "possible = []\n",
    "palindroms = []\n",
    "result = []\n",
    "for element in symbols:\n",
    "    dicti[element] = [match.start() for match in re.finditer(re.escape(element), text)]\n",
    "for element in dicti:\n",
    "    for i in range(len(dicti[element]) - 1):\n",
    "        if text[dicti[element][i] + 1] == text[dicti[element][i + 1] - 1] and dicti[element][i + 1] - dicti[element][i] <= 11:\n",
    "            possible.append([dicti[element][i], dicti[element][i + 1]])\n",
    "        else:\n",
    "            continue\n",
    "for element in possible:\n",
    "    for item in possible:\n",
    "        if element[0] + 1 == item[0] and element[1] - 1 == item[1]:\n",
    "            palindroms.append([element[0], item[0], element[1], item[1]])\n",
    "        else:\n",
    "            continue\n",
    "palindroms.sort()\n",
    "for item in palindroms[::-1]:\n",
    "    if item[2] == max(max(element) for element in palindroms):\n",
    "        print(text[item[0]:item[2] + 1])\n",
    "    palindroms.remove(item)\n",
    "#да, можно это организовать через генераторные выражения, но поскольку тут много всего, чтобы не запутаться самой, оставила так\n",
    "#писала это полтора часа...."
   ]
  },
  {
   "cell_type": "markdown",
   "id": "6fc6464f-6f1f-4f4b-8af4-19cec9ae3d3a",
   "metadata": {},
   "source": [
    "#### Задача 8.\n",
    "\n",
    "Найти в тексте все употребления слов \"понравилось\" и \"впечатлило\" такие, что непосредственно перед ними НЕ стоит \"не\". Время прошедшее, но род/число могут быть любыми."
   ]
  },
  {
   "cell_type": "code",
   "execution_count": 10,
   "id": "c8067adc-01dc-4deb-85a8-b3c747e509f8",
   "metadata": {},
   "outputs": [
    {
     "name": "stdout",
     "output_type": "stream",
     "text": [
      "нам очень понравилось что в кафе был небольшой выбор не впечатлил интерьер официанту понравился мой муж меня впечатлили туалеты мы же понравились хозяину кафе отбивная мне не понравилась котлета впечатлила мужа\n",
      "['понравилось', 'понравился', 'впечатлили', 'понравились', 'впечатлила']\n"
     ]
    }
   ],
   "source": [
    "text = 'Нам очень понравилось, что в кафе был небольшой выбор. Не впечатлил интерьер. Официанту понравился мой муж. Меня впечатлили туалеты. Мы же понравились хозяину кафе. Отбивная мне не понравилась. Котлета впечатлила мужа.'\n",
    "text = re.sub(r'[,.!?]', '', text.lower())\n",
    "print(text)\n",
    "method = re.compile(r'(?<!не )понравил[\\w]+|(?<!не )впечатлил[\\w]*')\n",
    "result = re.findall(method, text)\n",
    "print(result)"
   ]
  },
  {
   "cell_type": "markdown",
   "id": "8e998a54-5072-40f0-bfa8-39d368dc196f",
   "metadata": {},
   "source": [
    "#### Задача 9. \n",
    "\n",
    "Дан текст, каждая строка является именем некоторого файла (без директории). Напишите регулярное выражение, которое захватывает имена файлов без расширения, при этом интерес представляют только те файлы, у которых расширение не .bat и не .txt."
   ]
  },
  {
   "cell_type": "code",
   "execution_count": 11,
   "id": "fe0ba3e7-3b41-403d-8132-c2738c221084",
   "metadata": {},
   "outputs": [
    {
     "name": "stdout",
     "output_type": "stream",
     "text": [
      "['skyline', 'empty']\n"
     ]
    }
   ],
   "source": [
    "text = 'why_not.bat\\nskyline.mp3\\nrevolution.txt\\nempty.mp4\\n1chance.bat\\nhe_is_3.txt'\n",
    "method = re.compile(r'.+(?=\\.(?!bat|txt))')\n",
    "result = re.findall(method, text)\n",
    "print(result)"
   ]
  },
  {
   "cell_type": "markdown",
   "id": "77708f86-43d8-4a6b-a629-54729562ec65",
   "metadata": {},
   "source": [
    "#### Задача 10.\n",
    "\n",
    "Дан текст, каждая строка которого является полным или относительным путём к некоторому файлу.\n",
    "\n",
    "Напишите регулярное выражение, которое захватывает:\n",
    "1. директорию, в которой лежит файл;\n",
    "2. только имя файла (без расширения);\n",
    "3. только расширение;\n",
    "При этом:\n",
    "- нужны только файлы, у которых расширение не .bat и не .txt.\n",
    "- пути могут быть как в Unix, так и в Windows формате (https://ru.wikipedia.org/wiki/Путь_к_файлу).\n",
    "- расширение, если оно есть, начинается с точки. Файлы могут быть без расширения вовсе (в этом случае на месте расширения должно стоять None или \"\")\n",
    "- скрытые файлы могут начинаться с точки (например, .bashrc - и это не расширение)\n",
    "- относительный путь может содержать только название файла, в этом случае вместо директории выведите None или \"\"\n",
    "- в остальных случаях директория должна заканчиаться на разделитель директорий. Наприемр, в Unix-системах - \"/\" - это путь к корневой директории.\n",
    "\n",
    "Требуется получить список из кортежей, каждый кортеж содержит извлечённые данные.\n",
    "\n",
    "(Расширение в целом может содержать всё, что угодно, но разделителей директорий не может быть в именах файлах и расширениях. https://en.wikipedia.org/wiki/List_of_filename_extensions )"
   ]
  },
  {
   "cell_type": "code",
   "execution_count": 12,
   "id": "2d6fba64-c951-40d2-aa03-b97665346e68",
   "metadata": {},
   "outputs": [
    {
     "name": "stdout",
     "output_type": "stream",
     "text": [
      "home/user/docs/Letter.txt\n",
      "C:\\user\\docs\\Letter.txt\n",
      "https://ru.wikipedia.org/wiki/Путь_к_файлу''\n",
      "/home/user/docs/Image.jpg\n",
      "C:\\user\\images\\Foto.png\n",
      "/home/user/docs/README''\n",
      "/home/user/scripts/run.bat\n",
      "C:\\user\\scripts\\start.bat\n",
      "/home/user/docs/notes.txt\n",
      "C:\\user\\docs\\todos.txt\n",
      "''.bashrc''\n",
      "''.profile''\n",
      "C:\\user\\settings\\.config''\n",
      "C:\\user\\downloads\\.hiddenfile''\n",
      "\n",
      "[('https://ru.wikipedia.org/wiki', '/home/user/docs', 'C:\\\\user\\\\images', '/home/user/docs', '', '', 'C:\\\\user\\\\settings', 'C:\\\\user\\\\downloads'), ('Путь_к_файлу', 'Image', 'Foto', 'README', '.bashrc', '.profile', '.config', '.hiddenfile'), (\"''\", '.jpg', '.png', \"''\", \"''\", \"''\", \"''\", \"''\")]\n"
     ]
    }
   ],
   "source": [
    "text = \"home/user/docs/Letter.txt\\nC:\\\\user\\\\docs\\\\Letter.txt\\nhttps://ru.wikipedia.org/wiki/Путь_к_файлу''\\n/home/user/docs/Image.jpg\\nC:\\\\user\\\\images\\\\Foto.png\\n/home/user/docs/README''\\n/home/user/scripts/run.bat\\nC:\\\\user\\\\scripts\\\\start.bat\\n/home/user/docs/notes.txt\\nC:\\\\user\\\\docs\\\\todos.txt\\n''.bashrc''\\n''.profile''\\nC:\\\\user\\\\settings\\\\.config''\\nC:\\\\user\\\\downloads\\\\.hiddenfile''\\n\"\n",
    "links = text.split('\\n')\n",
    "method = re.compile(r'(.*)(?:\\/|\\\\|\\'\\')(.+)(\\.\\w+|\\'\\')')\n",
    "first = []\n",
    "second = []\n",
    "third = []\n",
    "for item in links:\n",
    "    print(item)\n",
    "    if not re.search(r'\\.(txt|bat)', item):\n",
    "        match = re.findall(method, item)\n",
    "        if match:\n",
    "            listi = match[0]\n",
    "            first.append(listi[0])\n",
    "            second.append(listi[1])\n",
    "            third.append(listi[2])\n",
    "result = [tuple(first), tuple(second), tuple(third)]\n",
    "print(result)\n",
    "#а потом я поняла, что требовалось сделать проще)"
   ]
  },
  {
   "cell_type": "code",
   "execution_count": 13,
   "id": "cefe4e01",
   "metadata": {},
   "outputs": [
    {
     "name": "stdout",
     "output_type": "stream",
     "text": [
      "home/user/docs/Letter.txt\n",
      "C:\\user\\docs\\Letter.txt\n",
      "https://ru.wikipedia.org/wiki/Путь_к_файлу''\n",
      "/home/user/docs/Image.jpg\n",
      "C:\\user\\images\\Foto.png\n",
      "/home/user/docs/README''\n",
      "/home/user/scripts/run.bat\n",
      "C:\\user\\scripts\\start.bat\n",
      "/home/user/docs/notes.txt\n",
      "C:\\user\\docs\\todos.txt\n",
      "''.bashrc''\n",
      "''.profile''\n",
      "C:\\user\\settings\\.config''\n",
      "C:\\user\\downloads\\.hiddenfile''\n",
      "\n",
      "[('https://ru.wikipedia.org/wiki', 'Путь_к_файлу', \"''\"), ('/home/user/docs', 'Image', '.jpg'), ('C:\\\\user\\\\images', 'Foto', '.png'), ('/home/user/docs', 'README', \"''\"), ('', '.bashrc', \"''\"), ('', '.profile', \"''\"), ('C:\\\\user\\\\settings', '.config', \"''\"), ('C:\\\\user\\\\downloads', '.hiddenfile', \"''\")]\n"
     ]
    }
   ],
   "source": [
    "text = \"home/user/docs/Letter.txt\\nC:\\\\user\\\\docs\\\\Letter.txt\\nhttps://ru.wikipedia.org/wiki/Путь_к_файлу''\\n/home/user/docs/Image.jpg\\nC:\\\\user\\\\images\\\\Foto.png\\n/home/user/docs/README''\\n/home/user/scripts/run.bat\\nC:\\\\user\\\\scripts\\\\start.bat\\n/home/user/docs/notes.txt\\nC:\\\\user\\\\docs\\\\todos.txt\\n''.bashrc''\\n''.profile''\\nC:\\\\user\\\\settings\\\\.config''\\nC:\\\\user\\\\downloads\\\\.hiddenfile''\\n\"\n",
    "links = text.split('\\n')\n",
    "method = re.compile(r'(.*)(?:\\/|\\\\|\\'\\')(.+)(\\.\\w+|\\'\\')')\n",
    "result = []\n",
    "for item in links:\n",
    "    print(item)\n",
    "    if not re.search(r'\\.(txt|bat)', item):\n",
    "        result.extend(re.findall(method, item))\n",
    "print(result)"
   ]
  },
  {
   "cell_type": "markdown",
   "id": "8c2e4d28-e5b4-4025-b227-c9d9e08c07ea",
   "metadata": {},
   "source": [
    "#### Задача 11.\n",
    "\n",
    "Увеличить все встретившиеся в тексте четные числа на 1, а нечетные на 2, в том числе и отрицательные. Перед числом может стоять знак. Считаем, что между знаком и числом пробела нет."
   ]
  },
  {
   "cell_type": "code",
   "execution_count": 14,
   "id": "b07aa5a6-25c5-4c69-ad46-19693ae6dafa",
   "metadata": {},
   "outputs": [
    {
     "name": "stdout",
     "output_type": "stream",
     "text": [
      "33 друзей Оушена, 9 элемент, 9 жизней, 3+3. 3+3, Омерзительная 9, К -39, 5:30, Т-35, 301 спартанцев\n"
     ]
    }
   ],
   "source": [
    "#не знала, что в re.sub можно закинуть прям функцию-функцию. посмотрела в чатгпт как решить эту задачу. мое решение (неправильное) вот:\n",
    "text = '11 друзей Оушена, 5 элемент, 7 жизней, 1+1. 2+1, Омерзительная 8, К -19, 4:20, Т-34, 300 спартанцев'\n",
    "for element in text.split():\n",
    "    clean = element.rstrip(',').rstrip('.')\n",
    "    if clean.isalpha() == False:\n",
    "        for element in re.findall(r'(-*\\d+)[+:-]*(\\d*)', clean)[0]:\n",
    "            if element != '':\n",
    "                if int(element) % 2 == 0:\n",
    "                    text = re.sub(f'{element}', f'{int(element) + 1}', text)\n",
    "                else:\n",
    "                    text = re.sub(f'{element}', f'{int(element) + 2}', text)\n",
    "print(text)\n",
    "#text = '13 друзей Оушена, 7 элемент, 9 жизней, 3+3. 3+3, Омерзительная 9, К -17, 5:21, Т-33, 301 спартанцев'"
   ]
  },
  {
   "cell_type": "markdown",
   "id": "d7ca9ca9-b045-4f7b-ab23-97b0b5dd4477",
   "metadata": {},
   "source": [
    "#### Задача 12.\n",
    "\n",
    "1. Текст состоит из строк (lines). Удалите одним регулярным выражением все пробелы в началах всех строк, и все пробелы в концах всех строк.\n",
    "2. То же, но теперь не только обычные пробелы, а все пробельные символы. При этом, дополнительно нужно удалить все пустые строки (пустые вообще, а так же состоящие только из пробельных символов). Попробуйте сделать это за одну операцию замены.\n",
    "3. Сделайте то же самое без регулярных выражений в одну строчку, используя bilt-in функцию filter."
   ]
  },
  {
   "cell_type": "code",
   "execution_count": 15,
   "id": "3991eeb5-c6cf-4f74-9bf5-4c10f4b124c3",
   "metadata": {},
   "outputs": [
    {
     "name": "stdout",
     "output_type": "stream",
     "text": [
      "Сижу за решеткой\n",
      "в темнице\n",
      "сырой.\n",
      "Вскормленный в\n",
      "неволе орел молодой.\n",
      "Дикий орел, при необходимости,\n",
      "может жить в неволе. Сырой\n",
      "тунец. Дам дам. Тунец вкусный\n",
      "\n",
      "Сижу за решеткой\n",
      "в темнице\n",
      "сырой.\n",
      "Вскормленный в\n",
      "неволе орел молодой.\n",
      "Дикий орел, при необходимости,\n",
      "может жить в неволе. Сырой\n",
      "тунец. Дам дам. Тунец вкусный\n",
      "Сижу за решеткой в темнице сырой. Вскормленный в неволе орел молодой. Дикий орел, при необходимости, может жить в неволе. Сырой тунец. Дам дам. Тунец вкусный\n"
     ]
    }
   ],
   "source": [
    "first = ' Сижу за решеткой  \\n в темнице \\n сырой.\\n Вскормленный в \\n неволе орел молодой.  \\n Дикий орел, при необходимости, \\n   может жить в неволе. Сырой \\n   тунец. Дам дам. Тунец вкусный   \\n'\n",
    "second = ' Сижу за решеткой\\t  \\n в темнице \\n\\n сырой.\\n \\t \\t \\nВскормленный в \\n\\n неволе орел молодой. \\t\\n \\t \\t \\n Дикий орел, при необходимости, \\n   \\tможет жить в неволе. Сырой \\n   тунец. Дам дам. Тунец вкусный  \\t \\n'\n",
    "firsti = re.sub(r'^ *| *$', '', first, flags=re.M)\n",
    "print(firsti)\n",
    "secondi = re.sub(r'\\n\\s*$|^[ \\t]*|[ \\t]*\\n*$', '', second, flags=re.M)\n",
    "print(secondi)\n",
    "thirdi = ' '.join(list(filter(lambda item: item, [item.lstrip().rstrip() for item in second.split('\\n')])))\n",
    "print(thirdi)"
   ]
  }
 ],
 "metadata": {
  "kernelspec": {
   "display_name": "Python 3",
   "language": "python",
   "name": "python3"
  },
  "language_info": {
   "codemirror_mode": {
    "name": "ipython",
    "version": 3
   },
   "file_extension": ".py",
   "mimetype": "text/x-python",
   "name": "python",
   "nbconvert_exporter": "python",
   "pygments_lexer": "ipython3",
   "version": "3.12.2"
  }
 },
 "nbformat": 4,
 "nbformat_minor": 5
}
